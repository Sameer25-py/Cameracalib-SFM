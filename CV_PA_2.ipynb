{
 "cells": [
  {
   "cell_type": "markdown",
   "metadata": {},
   "source": [
    "## Computer Vision(CS 436, CS5310, EE513) PA2: Camera Calibration"
   ]
  },
  {
   "cell_type": "markdown",
   "metadata": {},
   "source": [
    "###  In this part of assignment you'll be determining the intrinsic and extrinsic parameters of a your mobile phone camera using camera calibration techniques. \n",
    "### Undergrad students have to strictly follow the handout and implement the procedure outlined in the handout. Grad students can follow the handout and get full marks but they are free to experiment and they can look at other ways of finding the projection matrix but keep in mind that you are not allowed to copy code or pictures, the picture you use for calibration should be your own and should be taken from you own mobile phone camera. You should be able to explain every step of your implementation.\n",
    "### For this assignment we are using the direct linear transformation method"
   ]
  },
  {
   "cell_type": "code",
   "execution_count": 11,
   "metadata": {},
   "outputs": [],
   "source": [
    "#Imports\n",
    "import matplotlib\n",
    "# import cv2\n",
    "from mpl_toolkits import mplot3d\n",
    "from matplotlib import pyplot as plt\n",
    "from matplotlib import cm\n",
    "from matplotlib import image as mpimg\n",
    "from matplotlib.pyplot import figure\n",
    "import seaborn as sns\n",
    "import numpy as np\n",
    "import matplotlib.pylab as pl\n",
    "from matplotlib.colors import ListedColormap\n",
    "%matplotlib notebook"
   ]
  },
  {
   "cell_type": "markdown",
   "metadata": {},
   "source": [
    "## Part 1 (30 marks)\n",
    "### Take image of a calibration object with your camera phone. Unlike shown in the lecture slides here you are required to choose an appropriate 3D calibration object (i.e. a nonplanar object, a rubiks cube for example) so that the world points on that object span a 3-dimensional space, and the image points are easy to mark. Place the calibration object on a horizontal plane, such as a tabletop, or floor, to take the image. Mark at least 20 image points as carefully as possible and establish their world coordinates in millimeters. \n",
    "### From this data, compute the camera matrix P. Show the original points and the back-projected camera points on a single image and compute the average re-projection error."
   ]
  },
  {
   "cell_type": "code",
   "execution_count": 12,
   "metadata": {},
   "outputs": [],
   "source": [
    "#Refer to Lecture 19: slides 6-12 and slides 19-25\n",
    "\n",
    "# List of useful funcyions\n",
    "# u, s, vh = np.linalg.svd(A)\n",
    "# plt.plot(x, y, 'k+')\n",
    "# plt.imshow(...)\n",
    "# plt.show()\n",
    "\n",
    "#TODO"
   ]
  },
  {
   "cell_type": "markdown",
   "metadata": {},
   "source": [
    "## Part 2 (30 marks)\n",
    "### Since we are using direct linear transformation, the QR decomposition of a matrix is"
   ]
  },
  {
   "cell_type": "code",
   "execution_count": 13,
   "metadata": {},
   "outputs": [],
   "source": [
    "\n",
    "from numpy.linalg import qr\n",
    "from scipy.linalg import rq\n",
    "\n",
    "def myRQ(matrix):\n",
    "  Q, L = qr(np.linalg.inv(matrix))\n",
    "  K, R = np.linalg.inv(L), Q.T\n",
    "  return K, R"
   ]
  },
  {
   "cell_type": "markdown",
   "metadata": {},
   "source": [
    "\n",
    "### Compute camera center C, intrinsic matrix K and Rotation matrix R. Generate a 3D figure which shows the calibration points and the camera center (You also have to plot the points for 3d calibration object as well)"
   ]
  },
  {
   "cell_type": "code",
   "execution_count": 14,
   "metadata": {},
   "outputs": [],
   "source": [
    "#Refer to Lecture 19: slides 13-17 and slides 26-28\n",
    "\n",
    "# CAMERA CENTER -- last column of V transpose from svd(P) == nullspace since PC = 0\n",
    "\n",
    "# List of useful functions:\n",
    "# K, R = myRQ(KR)\n",
    "# ax = plt.figure().gca(projection='3d')  \n",
    "# ax.scatter3D(X, Y, Z, color='c') # points for 3D object\n",
    "# ax.text(cx, cy, cz, \"Camera Center\") # text label\n",
    "\n",
    "#TODO"
   ]
  },
  {
   "cell_type": "markdown",
   "metadata": {},
   "source": [
    "## (Grad Only) Part 3 (20 marks)\n",
    "### Search for the sensor information of your camera on the web. From this information, compute the focal length in mm. The following link may be useful to look up sensor sizes in mm(since most smartphone sensor sizes will be quoted in inches):\n",
    "https://www.digicamdb.com/sensor-sizes/\n",
    "### now re-plot everything along with the principal point of camera"
   ]
  },
  {
   "cell_type": "code",
   "execution_count": 15,
   "metadata": {},
   "outputs": [],
   "source": [
    "#Refer to Lecture 19: slide 29\n",
    "\n",
    "#TODO"
   ]
  },
  {
   "cell_type": "code",
   "execution_count": null,
   "metadata": {},
   "outputs": [],
   "source": []
  }
 ],
 "metadata": {
  "kernelspec": {
   "display_name": "Python 3",
   "language": "python",
   "name": "python3"
  },
  "language_info": {
   "codemirror_mode": {
    "name": "ipython",
    "version": 3
   },
   "file_extension": ".py",
   "mimetype": "text/x-python",
   "name": "python",
   "nbconvert_exporter": "python",
   "pygments_lexer": "ipython3",
   "version": "3.6.8"
  }
 },
 "nbformat": 4,
 "nbformat_minor": 2
}
